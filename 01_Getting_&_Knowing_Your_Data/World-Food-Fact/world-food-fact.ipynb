{
 "cells": [
  {
   "cell_type": "markdown",
   "id": "184c6090",
   "metadata": {
    "papermill": {
     "duration": 0.005099,
     "end_time": "2023-08-12T09:57:37.632124",
     "exception": false,
     "start_time": "2023-08-12T09:57:37.627025",
     "status": "completed"
    },
    "tags": []
   },
   "source": [
    "# **Exercise 1**\n",
    "\n"
   ]
  },
  {
   "cell_type": "code",
   "execution_count": 1,
   "id": "6f94ace5",
   "metadata": {
    "_cell_guid": "b1076dfc-b9ad-4769-8c92-a6c4dae69d19",
    "_uuid": "8f2839f25d086af736a60e9eeb907d3b93b6e0e5",
    "execution": {
     "iopub.execute_input": "2023-08-12T09:57:37.643514Z",
     "iopub.status.busy": "2023-08-12T09:57:37.642860Z",
     "iopub.status.idle": "2023-08-12T09:57:37.662189Z",
     "shell.execute_reply": "2023-08-12T09:57:37.661329Z"
    },
    "papermill": {
     "duration": 0.027623,
     "end_time": "2023-08-12T09:57:37.664456",
     "exception": false,
     "start_time": "2023-08-12T09:57:37.636833",
     "status": "completed"
    },
    "tags": []
   },
   "outputs": [
    {
     "name": "stdout",
     "output_type": "stream",
     "text": [
      "/kaggle/input/world-food-facts/en.openfoodfacts.org.products.tsv\n"
     ]
    }
   ],
   "source": [
    "# This Python 3 environment comes with many helpful analytics libraries installed\n",
    "# It is defined by the kaggle/python Docker image: https://github.com/kaggle/docker-python\n",
    "# For example, here's several helpful packages to load\n",
    "\n",
    "import numpy as np # linear algebra\n",
    "import pandas as pd # data processing, CSV file I/O (e.g. pd.read_csv)\n",
    "\n",
    "# Input data files are available in the read-only \"../input/\" directory\n",
    "# For example, running this (by clicking run or pressing Shift+Enter) will list all files under the input directory\n",
    "\n",
    "import os\n",
    "for dirname, _, filenames in os.walk('/kaggle/input'):\n",
    "    for filename in filenames:\n",
    "        print(os.path.join(dirname, filename))\n",
    "\n",
    "# You can write up to 20GB to the current directory (/kaggle/working/) that gets preserved as output when you create a version using \"Save & Run All\" \n",
    "# You can also write temporary files to /kaggle/temp/, but they won't be saved outside of the current session"
   ]
  },
  {
   "cell_type": "code",
   "execution_count": 2,
   "id": "da8d02c5",
   "metadata": {
    "execution": {
     "iopub.execute_input": "2023-08-12T09:57:37.676158Z",
     "iopub.status.busy": "2023-08-12T09:57:37.675586Z",
     "iopub.status.idle": "2023-08-12T09:58:04.569237Z",
     "shell.execute_reply": "2023-08-12T09:58:04.567948Z"
    },
    "papermill": {
     "duration": 26.903372,
     "end_time": "2023-08-12T09:58:04.572441",
     "exception": false,
     "start_time": "2023-08-12T09:57:37.669069",
     "status": "completed"
    },
    "tags": []
   },
   "outputs": [
    {
     "name": "stderr",
     "output_type": "stream",
     "text": [
      "/tmp/ipykernel_20/3733533986.py:1: DtypeWarning: Columns (0,3,5,19,20,24,25,26,27,28,36,37,38,39,48) have mixed types. Specify dtype option on import or set low_memory=False.\n",
      "  food = pd.read_table('/kaggle/input/world-food-facts/en.openfoodfacts.org.products.tsv')\n"
     ]
    }
   ],
   "source": [
    "food = pd.read_table('/kaggle/input/world-food-facts/en.openfoodfacts.org.products.tsv')"
   ]
  },
  {
   "cell_type": "code",
   "execution_count": 3,
   "id": "3e633b64",
   "metadata": {
    "execution": {
     "iopub.execute_input": "2023-08-12T09:58:04.583764Z",
     "iopub.status.busy": "2023-08-12T09:58:04.583296Z",
     "iopub.status.idle": "2023-08-12T09:58:04.622122Z",
     "shell.execute_reply": "2023-08-12T09:58:04.620542Z"
    },
    "papermill": {
     "duration": 0.04752,
     "end_time": "2023-08-12T09:58:04.624729",
     "exception": false,
     "start_time": "2023-08-12T09:58:04.577209",
     "status": "completed"
    },
    "tags": []
   },
   "outputs": [
    {
     "data": {
      "text/html": [
       "<div>\n",
       "<style scoped>\n",
       "    .dataframe tbody tr th:only-of-type {\n",
       "        vertical-align: middle;\n",
       "    }\n",
       "\n",
       "    .dataframe tbody tr th {\n",
       "        vertical-align: top;\n",
       "    }\n",
       "\n",
       "    .dataframe thead th {\n",
       "        text-align: right;\n",
       "    }\n",
       "</style>\n",
       "<table border=\"1\" class=\"dataframe\">\n",
       "  <thead>\n",
       "    <tr style=\"text-align: right;\">\n",
       "      <th></th>\n",
       "      <th>code</th>\n",
       "      <th>url</th>\n",
       "      <th>creator</th>\n",
       "      <th>created_t</th>\n",
       "      <th>created_datetime</th>\n",
       "      <th>last_modified_t</th>\n",
       "      <th>last_modified_datetime</th>\n",
       "      <th>product_name</th>\n",
       "      <th>generic_name</th>\n",
       "      <th>quantity</th>\n",
       "      <th>...</th>\n",
       "      <th>fruits-vegetables-nuts_100g</th>\n",
       "      <th>fruits-vegetables-nuts-estimate_100g</th>\n",
       "      <th>collagen-meat-protein-ratio_100g</th>\n",
       "      <th>cocoa_100g</th>\n",
       "      <th>chlorophyl_100g</th>\n",
       "      <th>carbon-footprint_100g</th>\n",
       "      <th>nutrition-score-fr_100g</th>\n",
       "      <th>nutrition-score-uk_100g</th>\n",
       "      <th>glycemic-index_100g</th>\n",
       "      <th>water-hardness_100g</th>\n",
       "    </tr>\n",
       "  </thead>\n",
       "  <tbody>\n",
       "    <tr>\n",
       "      <th>0</th>\n",
       "      <td>3087</td>\n",
       "      <td>http://world-en.openfoodfacts.org/product/0000...</td>\n",
       "      <td>openfoodfacts-contributors</td>\n",
       "      <td>1474103866</td>\n",
       "      <td>2016-09-17T09:17:46Z</td>\n",
       "      <td>1474103893</td>\n",
       "      <td>2016-09-17T09:18:13Z</td>\n",
       "      <td>Farine de blé noir</td>\n",
       "      <td>NaN</td>\n",
       "      <td>1kg</td>\n",
       "      <td>...</td>\n",
       "      <td>NaN</td>\n",
       "      <td>NaN</td>\n",
       "      <td>NaN</td>\n",
       "      <td>NaN</td>\n",
       "      <td>NaN</td>\n",
       "      <td>NaN</td>\n",
       "      <td>NaN</td>\n",
       "      <td>NaN</td>\n",
       "      <td>NaN</td>\n",
       "      <td>NaN</td>\n",
       "    </tr>\n",
       "    <tr>\n",
       "      <th>1</th>\n",
       "      <td>4530</td>\n",
       "      <td>http://world-en.openfoodfacts.org/product/0000...</td>\n",
       "      <td>usda-ndb-import</td>\n",
       "      <td>1489069957</td>\n",
       "      <td>2017-03-09T14:32:37Z</td>\n",
       "      <td>1489069957</td>\n",
       "      <td>2017-03-09T14:32:37Z</td>\n",
       "      <td>Banana Chips Sweetened (Whole)</td>\n",
       "      <td>NaN</td>\n",
       "      <td>NaN</td>\n",
       "      <td>...</td>\n",
       "      <td>NaN</td>\n",
       "      <td>NaN</td>\n",
       "      <td>NaN</td>\n",
       "      <td>NaN</td>\n",
       "      <td>NaN</td>\n",
       "      <td>NaN</td>\n",
       "      <td>14.0</td>\n",
       "      <td>14.0</td>\n",
       "      <td>NaN</td>\n",
       "      <td>NaN</td>\n",
       "    </tr>\n",
       "    <tr>\n",
       "      <th>2</th>\n",
       "      <td>4559</td>\n",
       "      <td>http://world-en.openfoodfacts.org/product/0000...</td>\n",
       "      <td>usda-ndb-import</td>\n",
       "      <td>1489069957</td>\n",
       "      <td>2017-03-09T14:32:37Z</td>\n",
       "      <td>1489069957</td>\n",
       "      <td>2017-03-09T14:32:37Z</td>\n",
       "      <td>Peanuts</td>\n",
       "      <td>NaN</td>\n",
       "      <td>NaN</td>\n",
       "      <td>...</td>\n",
       "      <td>NaN</td>\n",
       "      <td>NaN</td>\n",
       "      <td>NaN</td>\n",
       "      <td>NaN</td>\n",
       "      <td>NaN</td>\n",
       "      <td>NaN</td>\n",
       "      <td>0.0</td>\n",
       "      <td>0.0</td>\n",
       "      <td>NaN</td>\n",
       "      <td>NaN</td>\n",
       "    </tr>\n",
       "    <tr>\n",
       "      <th>3</th>\n",
       "      <td>16087</td>\n",
       "      <td>http://world-en.openfoodfacts.org/product/0000...</td>\n",
       "      <td>usda-ndb-import</td>\n",
       "      <td>1489055731</td>\n",
       "      <td>2017-03-09T10:35:31Z</td>\n",
       "      <td>1489055731</td>\n",
       "      <td>2017-03-09T10:35:31Z</td>\n",
       "      <td>Organic Salted Nut Mix</td>\n",
       "      <td>NaN</td>\n",
       "      <td>NaN</td>\n",
       "      <td>...</td>\n",
       "      <td>NaN</td>\n",
       "      <td>NaN</td>\n",
       "      <td>NaN</td>\n",
       "      <td>NaN</td>\n",
       "      <td>NaN</td>\n",
       "      <td>NaN</td>\n",
       "      <td>12.0</td>\n",
       "      <td>12.0</td>\n",
       "      <td>NaN</td>\n",
       "      <td>NaN</td>\n",
       "    </tr>\n",
       "    <tr>\n",
       "      <th>4</th>\n",
       "      <td>16094</td>\n",
       "      <td>http://world-en.openfoodfacts.org/product/0000...</td>\n",
       "      <td>usda-ndb-import</td>\n",
       "      <td>1489055653</td>\n",
       "      <td>2017-03-09T10:34:13Z</td>\n",
       "      <td>1489055653</td>\n",
       "      <td>2017-03-09T10:34:13Z</td>\n",
       "      <td>Organic Polenta</td>\n",
       "      <td>NaN</td>\n",
       "      <td>NaN</td>\n",
       "      <td>...</td>\n",
       "      <td>NaN</td>\n",
       "      <td>NaN</td>\n",
       "      <td>NaN</td>\n",
       "      <td>NaN</td>\n",
       "      <td>NaN</td>\n",
       "      <td>NaN</td>\n",
       "      <td>NaN</td>\n",
       "      <td>NaN</td>\n",
       "      <td>NaN</td>\n",
       "      <td>NaN</td>\n",
       "    </tr>\n",
       "  </tbody>\n",
       "</table>\n",
       "<p>5 rows × 163 columns</p>\n",
       "</div>"
      ],
      "text/plain": [
       "    code                                                url  \\\n",
       "0   3087  http://world-en.openfoodfacts.org/product/0000...   \n",
       "1   4530  http://world-en.openfoodfacts.org/product/0000...   \n",
       "2   4559  http://world-en.openfoodfacts.org/product/0000...   \n",
       "3  16087  http://world-en.openfoodfacts.org/product/0000...   \n",
       "4  16094  http://world-en.openfoodfacts.org/product/0000...   \n",
       "\n",
       "                      creator   created_t      created_datetime  \\\n",
       "0  openfoodfacts-contributors  1474103866  2016-09-17T09:17:46Z   \n",
       "1             usda-ndb-import  1489069957  2017-03-09T14:32:37Z   \n",
       "2             usda-ndb-import  1489069957  2017-03-09T14:32:37Z   \n",
       "3             usda-ndb-import  1489055731  2017-03-09T10:35:31Z   \n",
       "4             usda-ndb-import  1489055653  2017-03-09T10:34:13Z   \n",
       "\n",
       "  last_modified_t last_modified_datetime                    product_name  \\\n",
       "0      1474103893   2016-09-17T09:18:13Z              Farine de blé noir   \n",
       "1      1489069957   2017-03-09T14:32:37Z  Banana Chips Sweetened (Whole)   \n",
       "2      1489069957   2017-03-09T14:32:37Z                         Peanuts   \n",
       "3      1489055731   2017-03-09T10:35:31Z          Organic Salted Nut Mix   \n",
       "4      1489055653   2017-03-09T10:34:13Z                 Organic Polenta   \n",
       "\n",
       "  generic_name quantity  ... fruits-vegetables-nuts_100g  \\\n",
       "0          NaN      1kg  ...                         NaN   \n",
       "1          NaN      NaN  ...                         NaN   \n",
       "2          NaN      NaN  ...                         NaN   \n",
       "3          NaN      NaN  ...                         NaN   \n",
       "4          NaN      NaN  ...                         NaN   \n",
       "\n",
       "  fruits-vegetables-nuts-estimate_100g collagen-meat-protein-ratio_100g  \\\n",
       "0                                  NaN                              NaN   \n",
       "1                                  NaN                              NaN   \n",
       "2                                  NaN                              NaN   \n",
       "3                                  NaN                              NaN   \n",
       "4                                  NaN                              NaN   \n",
       "\n",
       "  cocoa_100g chlorophyl_100g carbon-footprint_100g nutrition-score-fr_100g  \\\n",
       "0        NaN             NaN                   NaN                     NaN   \n",
       "1        NaN             NaN                   NaN                    14.0   \n",
       "2        NaN             NaN                   NaN                     0.0   \n",
       "3        NaN             NaN                   NaN                    12.0   \n",
       "4        NaN             NaN                   NaN                     NaN   \n",
       "\n",
       "  nutrition-score-uk_100g glycemic-index_100g water-hardness_100g  \n",
       "0                     NaN                 NaN                 NaN  \n",
       "1                    14.0                 NaN                 NaN  \n",
       "2                     0.0                 NaN                 NaN  \n",
       "3                    12.0                 NaN                 NaN  \n",
       "4                     NaN                 NaN                 NaN  \n",
       "\n",
       "[5 rows x 163 columns]"
      ]
     },
     "execution_count": 3,
     "metadata": {},
     "output_type": "execute_result"
    }
   ],
   "source": [
    "#See the first 5 entries\n",
    "food.head()"
   ]
  },
  {
   "cell_type": "code",
   "execution_count": 4,
   "id": "b0c769de",
   "metadata": {
    "execution": {
     "iopub.execute_input": "2023-08-12T09:58:04.636754Z",
     "iopub.status.busy": "2023-08-12T09:58:04.636319Z",
     "iopub.status.idle": "2023-08-12T09:58:04.643316Z",
     "shell.execute_reply": "2023-08-12T09:58:04.642235Z"
    },
    "papermill": {
     "duration": 0.015554,
     "end_time": "2023-08-12T09:58:04.645525",
     "exception": false,
     "start_time": "2023-08-12T09:58:04.629971",
     "status": "completed"
    },
    "tags": []
   },
   "outputs": [
    {
     "data": {
      "text/plain": [
       "356027"
      ]
     },
     "execution_count": 4,
     "metadata": {},
     "output_type": "execute_result"
    }
   ],
   "source": [
    "# What is the number of observations in the dataset?\n",
    "\n",
    "food.shape[0]"
   ]
  },
  {
   "cell_type": "code",
   "execution_count": 5,
   "id": "845ddfbe",
   "metadata": {
    "execution": {
     "iopub.execute_input": "2023-08-12T09:58:04.657758Z",
     "iopub.status.busy": "2023-08-12T09:58:04.657376Z",
     "iopub.status.idle": "2023-08-12T09:58:04.664429Z",
     "shell.execute_reply": "2023-08-12T09:58:04.663251Z"
    },
    "papermill": {
     "duration": 0.015867,
     "end_time": "2023-08-12T09:58:04.666758",
     "exception": false,
     "start_time": "2023-08-12T09:58:04.650891",
     "status": "completed"
    },
    "tags": []
   },
   "outputs": [
    {
     "data": {
      "text/plain": [
       "163"
      ]
     },
     "execution_count": 5,
     "metadata": {},
     "output_type": "execute_result"
    }
   ],
   "source": [
    "# What is the number of columns in the dataset?\n",
    "food.shape[1]"
   ]
  },
  {
   "cell_type": "code",
   "execution_count": 6,
   "id": "91790b7f",
   "metadata": {
    "execution": {
     "iopub.execute_input": "2023-08-12T09:58:04.679259Z",
     "iopub.status.busy": "2023-08-12T09:58:04.678889Z",
     "iopub.status.idle": "2023-08-12T09:58:04.686282Z",
     "shell.execute_reply": "2023-08-12T09:58:04.685263Z"
    },
    "papermill": {
     "duration": 0.016324,
     "end_time": "2023-08-12T09:58:04.688569",
     "exception": false,
     "start_time": "2023-08-12T09:58:04.672245",
     "status": "completed"
    },
    "tags": []
   },
   "outputs": [
    {
     "data": {
      "text/plain": [
       "Index(['code', 'url', 'creator', 'created_t', 'created_datetime',\n",
       "       'last_modified_t', 'last_modified_datetime', 'product_name',\n",
       "       'generic_name', 'quantity',\n",
       "       ...\n",
       "       'fruits-vegetables-nuts_100g', 'fruits-vegetables-nuts-estimate_100g',\n",
       "       'collagen-meat-protein-ratio_100g', 'cocoa_100g', 'chlorophyl_100g',\n",
       "       'carbon-footprint_100g', 'nutrition-score-fr_100g',\n",
       "       'nutrition-score-uk_100g', 'glycemic-index_100g',\n",
       "       'water-hardness_100g'],\n",
       "      dtype='object', length=163)"
      ]
     },
     "execution_count": 6,
     "metadata": {},
     "output_type": "execute_result"
    }
   ],
   "source": [
    "#Print the name of all the columns.\n",
    "food.columns"
   ]
  },
  {
   "cell_type": "code",
   "execution_count": 7,
   "id": "f0eae20a",
   "metadata": {
    "execution": {
     "iopub.execute_input": "2023-08-12T09:58:04.701623Z",
     "iopub.status.busy": "2023-08-12T09:58:04.701259Z",
     "iopub.status.idle": "2023-08-12T09:58:04.708381Z",
     "shell.execute_reply": "2023-08-12T09:58:04.707236Z"
    },
    "papermill": {
     "duration": 0.016296,
     "end_time": "2023-08-12T09:58:04.710655",
     "exception": false,
     "start_time": "2023-08-12T09:58:04.694359",
     "status": "completed"
    },
    "tags": []
   },
   "outputs": [
    {
     "data": {
      "text/plain": [
       "'-fructose_100g'"
      ]
     },
     "execution_count": 7,
     "metadata": {},
     "output_type": "execute_result"
    }
   ],
   "source": [
    "#What is the name of 106th column?\n",
    "food.columns[105]"
   ]
  },
  {
   "cell_type": "code",
   "execution_count": 8,
   "id": "9d603cb8",
   "metadata": {
    "execution": {
     "iopub.execute_input": "2023-08-12T09:58:04.724205Z",
     "iopub.status.busy": "2023-08-12T09:58:04.723835Z",
     "iopub.status.idle": "2023-08-12T09:58:04.731355Z",
     "shell.execute_reply": "2023-08-12T09:58:04.730266Z"
    },
    "papermill": {
     "duration": 0.017025,
     "end_time": "2023-08-12T09:58:04.733657",
     "exception": false,
     "start_time": "2023-08-12T09:58:04.716632",
     "status": "completed"
    },
    "tags": []
   },
   "outputs": [
    {
     "data": {
      "text/plain": [
       "dtype('float64')"
      ]
     },
     "execution_count": 8,
     "metadata": {},
     "output_type": "execute_result"
    }
   ],
   "source": [
    "# What is the type of the observations of the 106th column\n",
    "\n",
    "food.dtypes[105]"
   ]
  },
  {
   "cell_type": "code",
   "execution_count": 9,
   "id": "3cd399ba",
   "metadata": {
    "execution": {
     "iopub.execute_input": "2023-08-12T09:58:04.748356Z",
     "iopub.status.busy": "2023-08-12T09:58:04.747333Z",
     "iopub.status.idle": "2023-08-12T09:58:04.753639Z",
     "shell.execute_reply": "2023-08-12T09:58:04.752868Z"
    },
    "papermill": {
     "duration": 0.016011,
     "end_time": "2023-08-12T09:58:04.755719",
     "exception": false,
     "start_time": "2023-08-12T09:58:04.739708",
     "status": "completed"
    },
    "tags": []
   },
   "outputs": [
    {
     "data": {
      "text/plain": [
       "RangeIndex(start=0, stop=356027, step=1)"
      ]
     },
     "execution_count": 9,
     "metadata": {},
     "output_type": "execute_result"
    }
   ],
   "source": [
    "#How is the dataset indexed?\n",
    "\n",
    "food.index"
   ]
  },
  {
   "cell_type": "code",
   "execution_count": 10,
   "id": "86ab0ced",
   "metadata": {
    "execution": {
     "iopub.execute_input": "2023-08-12T09:58:04.769823Z",
     "iopub.status.busy": "2023-08-12T09:58:04.768880Z",
     "iopub.status.idle": "2023-08-12T09:58:04.775282Z",
     "shell.execute_reply": "2023-08-12T09:58:04.774347Z"
    },
    "papermill": {
     "duration": 0.015505,
     "end_time": "2023-08-12T09:58:04.777335",
     "exception": false,
     "start_time": "2023-08-12T09:58:04.761830",
     "status": "completed"
    },
    "tags": []
   },
   "outputs": [
    {
     "data": {
      "text/plain": [
       "'Organic Oat Groats'"
      ]
     },
     "execution_count": 10,
     "metadata": {},
     "output_type": "execute_result"
    }
   ],
   "source": [
    "# What is the product name of the 20th observation?\n",
    "food.iloc[19].product_name"
   ]
  },
  {
   "cell_type": "code",
   "execution_count": null,
   "id": "5cca3efd",
   "metadata": {
    "papermill": {
     "duration": 0.007144,
     "end_time": "2023-08-12T09:58:04.790580",
     "exception": false,
     "start_time": "2023-08-12T09:58:04.783436",
     "status": "completed"
    },
    "tags": []
   },
   "outputs": [],
   "source": []
  }
 ],
 "metadata": {
  "kernelspec": {
   "display_name": "Python 3",
   "language": "python",
   "name": "python3"
  },
  "language_info": {
   "codemirror_mode": {
    "name": "ipython",
    "version": 3
   },
   "file_extension": ".py",
   "mimetype": "text/x-python",
   "name": "python",
   "nbconvert_exporter": "python",
   "pygments_lexer": "ipython3",
   "version": "3.10.12"
  },
  "papermill": {
   "default_parameters": {},
   "duration": 39.176641,
   "end_time": "2023-08-12T09:58:05.919573",
   "environment_variables": {},
   "exception": null,
   "input_path": "__notebook__.ipynb",
   "output_path": "__notebook__.ipynb",
   "parameters": {},
   "start_time": "2023-08-12T09:57:26.742932",
   "version": "2.4.0"
  }
 },
 "nbformat": 4,
 "nbformat_minor": 5
}
